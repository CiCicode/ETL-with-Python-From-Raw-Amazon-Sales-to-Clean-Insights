{
 "cells": [
  {
   "cell_type": "code",
   "execution_count": null,
   "id": "66f94c20",
   "metadata": {},
   "outputs": [
    {
     "name": "stderr",
     "output_type": "stream",
     "text": [
      "C:\\Users\\Ciao\\AppData\\Local\\Temp\\ipykernel_27584\\3030684971.py:3: DtypeWarning: Columns (23) have mixed types. Specify dtype option on import or set low_memory=False.\n",
      "  df = pd.read_csv(csv_path)\n"
     ]
    },
    {
     "name": "stdout",
     "output_type": "stream",
     "text": [
      "index                     0\n",
      "Order ID                  0\n",
      "Date                      0\n",
      "Status                    0\n",
      "Fulfilment                0\n",
      "Sales Channel             0\n",
      "ship-service-level        0\n",
      "Style                     0\n",
      "SKU                       0\n",
      "Category                  0\n",
      "Size                      0\n",
      "ASIN                      0\n",
      "Courier Status         6872\n",
      "Qty                       0\n",
      "currency               7795\n",
      "Amount                 7795\n",
      "ship-city                33\n",
      "ship-state               33\n",
      "ship-postal-code         33\n",
      "ship-country             33\n",
      "promotion-ids         49153\n",
      "B2B                       0\n",
      "fulfilled-by          89698\n",
      "Unnamed: 22           49050\n",
      "dtype: int64\n"
     ]
    }
   ],
   "source": [
    "import pandas as pd\n",
    "csv_path ='C:/Users/Ciao/Analysis/Data Analysis/Amazon Sale Report.csv'\n",
    "df = pd.read_csv(csv_path)\n",
    "# Check missing values\n",
    "missing_values = df.isnull().sum()\n",
    "print(missing_values)\n",
    "\n"
   ]
  },
  {
   "cell_type": "code",
   "execution_count": 4,
   "id": "daa5f96e",
   "metadata": {},
   "outputs": [
    {
     "name": "stdout",
     "output_type": "stream",
     "text": [
      "                    Count of unique values\n",
      "index                               128975\n",
      "Order ID                            120378\n",
      "Date                                    91\n",
      "Status                                  13\n",
      "Fulfilment                               2\n",
      "Sales Channel                            2\n",
      "ship-service-level                       2\n",
      "Style                                 1377\n",
      "SKU                                   7195\n",
      "Category                                 9\n",
      "Size                                    11\n",
      "ASIN                                  7190\n",
      "Courier Status                           3\n",
      "Qty                                     10\n",
      "currency                                 1\n",
      "Amount                                1410\n",
      "ship-city                             8955\n",
      "ship-state                              69\n",
      "ship-postal-code                      9459\n",
      "ship-country                             1\n",
      "promotion-ids                         5787\n",
      "B2B                                      2\n",
      "fulfilled-by                             1\n",
      "Unnamed: 22                              1\n"
     ]
    }
   ],
   "source": [
    "# Check unique values and counts\n",
    "unique_values_count = df.nunique().to_frame(name='Count of unique values')\n",
    "unique_values = df.apply(pd.unique).to_frame(name='Unique Values')\n",
    "print(unique_values_count)"
   ]
  },
  {
   "cell_type": "code",
   "execution_count": 5,
   "id": "2acee98e",
   "metadata": {},
   "outputs": [
    {
     "name": "stdout",
     "output_type": "stream",
     "text": [
      "                                                        Unique Values\n",
      "index               [0, 1, 2, 3, 4, 5, 6, 7, 8, 9, 10, 11, 12, 13,...\n",
      "Order ID            [405-8078784-5731545, 171-9198151-1101146, 404...\n",
      "Date                [04-30-22, 04-29-22, 04-28-22, 04-27-22, 04-26...\n",
      "Status              [Cancelled, Shipped - Delivered to Buyer, Ship...\n",
      "Fulfilment                                         [Merchant, Amazon]\n",
      "Sales Channel                                 [Amazon.in, Non-Amazon]\n",
      "ship-service-level                              [Standard, Expedited]\n",
      "Style               [SET389, JNE3781, JNE3371, J0341, JNE3671, SET...\n",
      "SKU                 [SET389-KR-NP-S, JNE3781-KR-XXXL, JNE3371-KR-X...\n",
      "Category            [Set, kurta, Western Dress, Top, Ethnic Dress,...\n",
      "Size                 [S, 3XL, XL, L, XXL, XS, 6XL, M, 4XL, 5XL, Free]\n",
      "ASIN                [B09KXVBD7Z, B09K3WFS32, B07WV4JV4D, B099NRCT7...\n",
      "Courier Status                   [nan, Shipped, Cancelled, Unshipped]\n",
      "Qty                                  [0, 1, 2, 15, 3, 9, 13, 5, 4, 8]\n",
      "currency                                                   [INR, nan]\n",
      "Amount              [647.62, 406.0, 329.0, 753.33, 574.0, 824.0, 6...\n",
      "ship-city           [MUMBAI, BENGALURU, NAVI MUMBAI, PUDUCHERRY, C...\n",
      "ship-state          [MAHARASHTRA, KARNATAKA, PUDUCHERRY, TAMIL NAD...\n",
      "ship-postal-code    [400081.0, 560085.0, 410210.0, 605008.0, 60007...\n",
      "ship-country                                                [IN, nan]\n",
      "promotion-ids       [nan, Amazon PLCC Free-Financing Universal Mer...\n",
      "B2B                                                     [False, True]\n",
      "fulfilled-by                                         [Easy Ship, nan]\n",
      "Unnamed: 22                                              [nan, False]\n"
     ]
    }
   ],
   "source": [
    "print(unique_values)"
   ]
  },
  {
   "cell_type": "code",
   "execution_count": 6,
   "id": "905cd28d",
   "metadata": {},
   "outputs": [
    {
     "name": "stdout",
     "output_type": "stream",
     "text": [
      "Index(['Order ID', 'Date', 'Status', 'Fulfilment', 'Sales Channel ',\n",
      "       'ship-service-level', 'Style', 'SKU', 'Category', 'Size', 'ASIN',\n",
      "       'Courier Status', 'Qty', 'Amount', 'ship-city', 'ship-state',\n",
      "       'ship-postal-code', 'promotion-ids', 'B2B'],\n",
      "      dtype='object')\n"
     ]
    }
   ],
   "source": [
    "# Drop unnecessary columns\n",
    "df.drop(columns=['index', 'Unnamed: 22', 'fulfilled-by', 'ship-country', 'currency'], inplace=True)\n",
    "print(df.columns)\n"
   ]
  },
  {
   "cell_type": "code",
   "execution_count": 7,
   "id": "d028ad8c",
   "metadata": {},
   "outputs": [
    {
     "name": "stdout",
     "output_type": "stream",
     "text": [
      "Index(['Order ID', 'Date', 'Status', 'Fulfilment', 'Sales Channel',\n",
      "       'ship-service-level', 'Style', 'SKU', 'Category', 'Size', 'ASIN',\n",
      "       'Courier Status', 'Qty', 'Amount', 'ship-city', 'ship-state',\n",
      "       'ship-postal-code', 'promotion-ids', 'B2B'],\n",
      "      dtype='object')\n"
     ]
    }
   ],
   "source": [
    "# Strip any leading/trailing spaces from column names\n",
    "df.columns = df.columns.str.strip()\n",
    "print(df.columns)"
   ]
  },
  {
   "cell_type": "code",
   "execution_count": 12,
   "id": "fdd03965",
   "metadata": {},
   "outputs": [
    {
     "name": "stdout",
     "output_type": "stream",
     "text": [
      "128968\n"
     ]
    }
   ],
   "source": [
    "# Remove duplicate rows based on 'Order ID' and 'ASIN'\n",
    "df = df.drop_duplicates(subset=['Order ID', 'ASIN'])\n",
    "print(len(df))"
   ]
  },
  {
   "cell_type": "code",
   "execution_count": 13,
   "id": "ab8040c4",
   "metadata": {},
   "outputs": [
    {
     "name": "stdout",
     "output_type": "stream",
     "text": [
      "Order ID              0\n",
      "Date                  0\n",
      "Status                0\n",
      "Fulfilment            0\n",
      "Sales Channel         0\n",
      "ship-service-level    0\n",
      "Style                 0\n",
      "SKU                   0\n",
      "Category              0\n",
      "Size                  0\n",
      "ASIN                  0\n",
      "Courier Status        0\n",
      "Qty                   0\n",
      "Amount                0\n",
      "ship-city             0\n",
      "ship-state            0\n",
      "ship-postal-code      0\n",
      "promotion-ids         0\n",
      "B2B                   0\n",
      "dtype: int64\n"
     ]
    },
    {
     "name": "stderr",
     "output_type": "stream",
     "text": [
      "C:\\Users\\Ciao\\AppData\\Local\\Temp\\ipykernel_27584\\852928141.py:2: FutureWarning: A value is trying to be set on a copy of a DataFrame or Series through chained assignment using an inplace method.\n",
      "The behavior will change in pandas 3.0. This inplace method will never work because the intermediate object on which we are setting values always behaves as a copy.\n",
      "\n",
      "For example, when doing 'df[col].method(value, inplace=True)', try using 'df.method({col: value}, inplace=True)' or df[col] = df[col].method(value) instead, to perform the operation inplace on the original object.\n",
      "\n",
      "\n",
      "  df['Amount'].fillna(0,inplace=True)\n",
      "C:\\Users\\Ciao\\AppData\\Local\\Temp\\ipykernel_27584\\852928141.py:4: FutureWarning: A value is trying to be set on a copy of a DataFrame or Series through chained assignment using an inplace method.\n",
      "The behavior will change in pandas 3.0. This inplace method will never work because the intermediate object on which we are setting values always behaves as a copy.\n",
      "\n",
      "For example, when doing 'df[col].method(value, inplace=True)', try using 'df.method({col: value}, inplace=True)' or df[col] = df[col].method(value) instead, to perform the operation inplace on the original object.\n",
      "\n",
      "\n",
      "  df['ship-city'].fillna('Unknown', inplace=True)\n",
      "C:\\Users\\Ciao\\AppData\\Local\\Temp\\ipykernel_27584\\852928141.py:5: FutureWarning: A value is trying to be set on a copy of a DataFrame or Series through chained assignment using an inplace method.\n",
      "The behavior will change in pandas 3.0. This inplace method will never work because the intermediate object on which we are setting values always behaves as a copy.\n",
      "\n",
      "For example, when doing 'df[col].method(value, inplace=True)', try using 'df.method({col: value}, inplace=True)' or df[col] = df[col].method(value) instead, to perform the operation inplace on the original object.\n",
      "\n",
      "\n",
      "  df['ship-state'].fillna('Unknown', inplace=True)\n",
      "C:\\Users\\Ciao\\AppData\\Local\\Temp\\ipykernel_27584\\852928141.py:6: FutureWarning: A value is trying to be set on a copy of a DataFrame or Series through chained assignment using an inplace method.\n",
      "The behavior will change in pandas 3.0. This inplace method will never work because the intermediate object on which we are setting values always behaves as a copy.\n",
      "\n",
      "For example, when doing 'df[col].method(value, inplace=True)', try using 'df.method({col: value}, inplace=True)' or df[col] = df[col].method(value) instead, to perform the operation inplace on the original object.\n",
      "\n",
      "\n",
      "  df['ship-postal-code'].fillna('Unknown', inplace=True)\n",
      "C:\\Users\\Ciao\\AppData\\Local\\Temp\\ipykernel_27584\\852928141.py:6: FutureWarning: Setting an item of incompatible dtype is deprecated and will raise an error in a future version of pandas. Value 'Unknown' has dtype incompatible with float64, please explicitly cast to a compatible dtype first.\n",
      "  df['ship-postal-code'].fillna('Unknown', inplace=True)\n",
      "C:\\Users\\Ciao\\AppData\\Local\\Temp\\ipykernel_27584\\852928141.py:7: FutureWarning: A value is trying to be set on a copy of a DataFrame or Series through chained assignment using an inplace method.\n",
      "The behavior will change in pandas 3.0. This inplace method will never work because the intermediate object on which we are setting values always behaves as a copy.\n",
      "\n",
      "For example, when doing 'df[col].method(value, inplace=True)', try using 'df.method({col: value}, inplace=True)' or df[col] = df[col].method(value) instead, to perform the operation inplace on the original object.\n",
      "\n",
      "\n",
      "  df['Courier Status'].fillna('Unknown', inplace=True)\n",
      "C:\\Users\\Ciao\\AppData\\Local\\Temp\\ipykernel_27584\\852928141.py:9: FutureWarning: A value is trying to be set on a copy of a DataFrame or Series through chained assignment using an inplace method.\n",
      "The behavior will change in pandas 3.0. This inplace method will never work because the intermediate object on which we are setting values always behaves as a copy.\n",
      "\n",
      "For example, when doing 'df[col].method(value, inplace=True)', try using 'df.method({col: value}, inplace=True)' or df[col] = df[col].method(value) instead, to perform the operation inplace on the original object.\n",
      "\n",
      "\n",
      "  df['promotion-ids'].fillna('no',inplace=True)\n"
     ]
    }
   ],
   "source": [
    "# Fill missing values for 'Amount'columns (fill with '0' for 'Amount')\n",
    "df['Amount'].fillna(0,inplace=True)\n",
    "# Fill missing with 'Unknown'\n",
    "df['ship-city'].fillna('Unknown', inplace=True)\n",
    "df['ship-state'].fillna('Unknown', inplace=True)\n",
    "df['ship-postal-code'].fillna('Unknown', inplace=True)\n",
    "df['Courier Status'].fillna('Unknown', inplace=True)\n",
    "# Fill missing with 'No'\n",
    "df['promotion-ids'].fillna('no',inplace=True)\n",
    "\n",
    "missing_values_after = df.isnull().sum()\n",
    "print(missing_values_after)"
   ]
  },
  {
   "cell_type": "code",
   "execution_count": 14,
   "id": "2adc1e3a",
   "metadata": {},
   "outputs": [],
   "source": [
    "cleaned_csv_path = 'C:/Users/Ciao/Analysis/Data Analysis/Cleaned_Amazon_Sale_Report v2.csv'\n",
    "df.to_csv(cleaned_csv_path, index=False)"
   ]
  }
 ],
 "metadata": {
  "kernelspec": {
   "display_name": "Python 3",
   "language": "python",
   "name": "python3"
  },
  "language_info": {
   "codemirror_mode": {
    "name": "ipython",
    "version": 3
   },
   "file_extension": ".py",
   "mimetype": "text/x-python",
   "name": "python",
   "nbconvert_exporter": "python",
   "pygments_lexer": "ipython3",
   "version": "3.12.7"
  }
 },
 "nbformat": 4,
 "nbformat_minor": 5
}
